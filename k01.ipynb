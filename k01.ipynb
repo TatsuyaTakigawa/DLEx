{
  "nbformat": 4,
  "nbformat_minor": 0,
  "metadata": {
    "colab": {
      "provenance": [],
      "authorship_tag": "ABX9TyP462vJ9BlJMMzE2ZJqvQiP",
      "include_colab_link": true
    },
    "kernelspec": {
      "name": "python3",
      "display_name": "Python 3"
    },
    "language_info": {
      "name": "python"
    }
  },
  "cells": [
    {
      "cell_type": "markdown",
      "metadata": {
        "id": "view-in-github",
        "colab_type": "text"
      },
      "source": [
        "<a href=\"https://colab.research.google.com/github/TatsuyaTakigawa/Deep_Learning_Exercises/blob/main/k01.ipynb\" target=\"_parent\"><img src=\"https://colab.research.google.com/assets/colab-badge.svg\" alt=\"Open In Colab\"/></a>"
      ]
    },
    {
      "cell_type": "code",
      "execution_count": null,
      "metadata": {
        "id": "ZwvWe_4xe6zo"
      },
      "outputs": [],
      "source": [
        "My_Student_ID = 2301018\n",
        "\n",
        "def checkNum(Num):\n",
        "    if str(Num) in str(My_Student_ID):\n",
        "        return True\n",
        "    else:\n",
        "        return False"
      ]
    },
    {
      "cell_type": "code",
      "source": [
        "checkNum(6)"
      ],
      "metadata": {
        "colab": {
          "base_uri": "https://localhost:8080/"
        },
        "id": "suLuP01Wf2m4",
        "outputId": "819ac032-e709-4eec-97d7-678ce98ebc2c"
      },
      "execution_count": null,
      "outputs": [
        {
          "output_type": "execute_result",
          "data": {
            "text/plain": [
              "False"
            ]
          },
          "metadata": {},
          "execution_count": 12
        }
      ]
    },
    {
      "cell_type": "code",
      "source": [
        "checkNum(2)"
      ],
      "metadata": {
        "colab": {
          "base_uri": "https://localhost:8080/"
        },
        "id": "noHnsBU2gBRU",
        "outputId": "7738413d-186b-47a4-fae2-0fa173fc0574"
      },
      "execution_count": null,
      "outputs": [
        {
          "output_type": "execute_result",
          "data": {
            "text/plain": [
              "True"
            ]
          },
          "metadata": {},
          "execution_count": 14
        }
      ]
    },
    {
      "cell_type": "markdown",
      "source": [
        "## 模範解答"
      ],
      "metadata": {
        "id": "SzFRLIQBlZjL"
      }
    },
    {
      "cell_type": "code",
      "source": [
        "def checkNumAns(num):\n",
        "    return str(num) in \"2301018\""
      ],
      "metadata": {
        "id": "yp_u52schugK"
      },
      "execution_count": null,
      "outputs": []
    },
    {
      "cell_type": "code",
      "source": [
        "for i in range(10):\n",
        "    if checkNumAns(i):\n",
        "        print(i)"
      ],
      "metadata": {
        "colab": {
          "base_uri": "https://localhost:8080/"
        },
        "id": "qWve5FMolm77",
        "outputId": "7cf42564-a252-4252-e512-870c5137cdfd"
      },
      "execution_count": null,
      "outputs": [
        {
          "output_type": "stream",
          "name": "stdout",
          "text": [
            "0\n",
            "1\n",
            "2\n",
            "3\n",
            "8\n"
          ]
        }
      ]
    },
    {
      "cell_type": "code",
      "source": [],
      "metadata": {
        "id": "uzwHH-QIl4GL"
      },
      "execution_count": null,
      "outputs": []
    }
  ]
}